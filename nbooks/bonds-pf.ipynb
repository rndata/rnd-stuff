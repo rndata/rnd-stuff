{
 "cells": [
  {
   "cell_type": "code",
   "execution_count": 53,
   "metadata": {},
   "outputs": [],
   "source": [
    "import toolz as tz\n",
    "import pandas as pd\n",
    "import numpy as np\n",
    "import scipy.stats as stats\n",
    "from scipy.optimize import minimize\n",
    "import matplotlib.pyplot as plt"
   ]
  },
  {
   "cell_type": "code",
   "execution_count": null,
   "metadata": {},
   "outputs": [],
   "source": []
  },
  {
   "cell_type": "code",
   "execution_count": 85,
   "metadata": {},
   "outputs": [
    {
     "data": {
      "text/html": [
       "<div>\n",
       "<style scoped>\n",
       "    .dataframe tbody tr th:only-of-type {\n",
       "        vertical-align: middle;\n",
       "    }\n",
       "\n",
       "    .dataframe tbody tr th {\n",
       "        vertical-align: top;\n",
       "    }\n",
       "\n",
       "    .dataframe thead th {\n",
       "        text-align: right;\n",
       "    }\n",
       "</style>\n",
       "<table border=\"1\" class=\"dataframe\">\n",
       "  <thead>\n",
       "    <tr style=\"text-align: right;\">\n",
       "      <th></th>\n",
       "      <th>rating</th>\n",
       "      <th>mean</th>\n",
       "      <th>std</th>\n",
       "      <th>p</th>\n",
       "    </tr>\n",
       "  </thead>\n",
       "  <tbody>\n",
       "    <tr>\n",
       "      <th>0</th>\n",
       "      <td>AAA</td>\n",
       "      <td>0.001</td>\n",
       "      <td>0.001</td>\n",
       "      <td>0.0015</td>\n",
       "    </tr>\n",
       "    <tr>\n",
       "      <th>1</th>\n",
       "      <td>AA</td>\n",
       "      <td>0.009</td>\n",
       "      <td>0.004</td>\n",
       "      <td>0.0040</td>\n",
       "    </tr>\n",
       "    <tr>\n",
       "      <th>2</th>\n",
       "      <td>A</td>\n",
       "      <td>0.005</td>\n",
       "      <td>0.005</td>\n",
       "      <td>0.0150</td>\n",
       "    </tr>\n",
       "    <tr>\n",
       "      <th>3</th>\n",
       "      <td>BBB</td>\n",
       "      <td>0.007</td>\n",
       "      <td>0.006</td>\n",
       "      <td>0.0250</td>\n",
       "    </tr>\n",
       "    <tr>\n",
       "      <th>4</th>\n",
       "      <td>BB</td>\n",
       "      <td>0.025</td>\n",
       "      <td>0.012</td>\n",
       "      <td>0.0450</td>\n",
       "    </tr>\n",
       "    <tr>\n",
       "      <th>5</th>\n",
       "      <td>B</td>\n",
       "      <td>0.047</td>\n",
       "      <td>0.021</td>\n",
       "      <td>0.0750</td>\n",
       "    </tr>\n",
       "    <tr>\n",
       "      <th>6</th>\n",
       "      <td>CCC</td>\n",
       "      <td>0.057</td>\n",
       "      <td>0.025</td>\n",
       "      <td>0.5500</td>\n",
       "    </tr>\n",
       "  </tbody>\n",
       "</table>\n",
       "</div>"
      ],
      "text/plain": [
       "  rating   mean    std       p\n",
       "0    AAA  0.001  0.001  0.0015\n",
       "1     AA  0.009  0.004  0.0040\n",
       "2      A  0.005  0.005  0.0150\n",
       "3    BBB  0.007  0.006  0.0250\n",
       "4     BB  0.025  0.012  0.0450\n",
       "5      B  0.047  0.021  0.0750\n",
       "6    CCC  0.057  0.025  0.5500"
      ]
     },
     "execution_count": 85,
     "metadata": {},
     "output_type": "execute_result"
    }
   ],
   "source": [
    "# meta information that \"defines\" bond classes (class is rating basically) in terms of\n",
    "# yield mean, yield std, and default prob\n",
    "meta = [\n",
    "    { 'rating': 'AAA', 'mean': .001, 'std': .001, 'p': .0015 },\n",
    "    { 'rating': 'AA',  'mean': .009, 'std': .004, 'p': .004  },\n",
    "    { 'rating': 'A',   'mean': .005, 'std': .005, 'p': .015  },\n",
    "    { 'rating': 'BBB', 'mean': .007, 'std': .006, 'p': .025  },\n",
    "    { 'rating': 'BB',  'mean': .025, 'std': .012, 'p': .045  },\n",
    "    { 'rating': 'B',   'mean': .047, 'std': .021, 'p': .075  },\n",
    "    { 'rating': 'CCC', 'mean': .057, 'std': .025, 'p': .55   },\n",
    "]\n",
    "df_meta = pd.DataFrame(meta)\n",
    "meta_mean = df_meta['mean'].to_numpy()\n",
    "meta_std  = df_meta['std'].to_numpy()\n",
    "meta_p    = df_meta['p'].to_numpy()\n",
    "df_meta"
   ]
  },
  {
   "cell_type": "code",
   "execution_count": 86,
   "metadata": {},
   "outputs": [
    {
     "data": {
      "text/plain": [
       "(array([0.001, 0.009, 0.005, 0.007, 0.025, 0.047, 0.057]),\n",
       " array([0.001, 0.004, 0.005, 0.006, 0.012, 0.021, 0.025]),\n",
       " array([0.0015, 0.004 , 0.015 , 0.025 , 0.045 , 0.075 , 0.55  ]))"
      ]
     },
     "execution_count": 86,
     "metadata": {},
     "output_type": "execute_result"
    }
   ],
   "source": [
    "meta_mean, meta_std, meta_p"
   ]
  },
  {
   "cell_type": "code",
   "execution_count": 87,
   "metadata": {},
   "outputs": [],
   "source": [
    "def mk_portfolio(grp_size=1):\n",
    "    \"\"\"Generate random portfolio with `grp_size` amount of bonds for each rating\n",
    "    \n",
    "    yield is modelled as a sample from normal dist with mean and std for rating from meta\n",
    "    it's not exactly correct, but gives results close to real\n",
    "    \"\"\"\n",
    "    df = pd.DataFrame()\n",
    "    for m in meta:\n",
    "        yields = np.random.normal(loc=m['mean'], scale=m['std'], size=grp_size)\n",
    "        df_grp = pd.DataFrame()\n",
    "        df_grp['yields'] = yields + 1\n",
    "        df_grp['rating'] = m['rating']\n",
    "        df_grp['p'] = m['p']\n",
    "        df = df.append(df_grp, ignore_index=True)\n",
    "    \n",
    "    rnds = np.random.rand(len(df))\n",
    "    df['w'] = rnds/sum(rnds)\n",
    "    return df"
   ]
  },
  {
   "cell_type": "code",
   "execution_count": 88,
   "metadata": {},
   "outputs": [
    {
     "data": {
      "text/html": [
       "<div>\n",
       "<style scoped>\n",
       "    .dataframe tbody tr th:only-of-type {\n",
       "        vertical-align: middle;\n",
       "    }\n",
       "\n",
       "    .dataframe tbody tr th {\n",
       "        vertical-align: top;\n",
       "    }\n",
       "\n",
       "    .dataframe thead th {\n",
       "        text-align: right;\n",
       "    }\n",
       "</style>\n",
       "<table border=\"1\" class=\"dataframe\">\n",
       "  <thead>\n",
       "    <tr style=\"text-align: right;\">\n",
       "      <th></th>\n",
       "      <th>yields</th>\n",
       "      <th>rating</th>\n",
       "      <th>p</th>\n",
       "      <th>w</th>\n",
       "    </tr>\n",
       "  </thead>\n",
       "  <tbody>\n",
       "    <tr>\n",
       "      <th>0</th>\n",
       "      <td>1.001803</td>\n",
       "      <td>AAA</td>\n",
       "      <td>0.0015</td>\n",
       "      <td>0.008827</td>\n",
       "    </tr>\n",
       "    <tr>\n",
       "      <th>1</th>\n",
       "      <td>1.000215</td>\n",
       "      <td>AAA</td>\n",
       "      <td>0.0015</td>\n",
       "      <td>0.001837</td>\n",
       "    </tr>\n",
       "    <tr>\n",
       "      <th>2</th>\n",
       "      <td>1.001200</td>\n",
       "      <td>AAA</td>\n",
       "      <td>0.0015</td>\n",
       "      <td>0.006249</td>\n",
       "    </tr>\n",
       "    <tr>\n",
       "      <th>3</th>\n",
       "      <td>1.001835</td>\n",
       "      <td>AAA</td>\n",
       "      <td>0.0015</td>\n",
       "      <td>0.005230</td>\n",
       "    </tr>\n",
       "    <tr>\n",
       "      <th>4</th>\n",
       "      <td>1.000717</td>\n",
       "      <td>AAA</td>\n",
       "      <td>0.0015</td>\n",
       "      <td>0.003124</td>\n",
       "    </tr>\n",
       "    <tr>\n",
       "      <th>...</th>\n",
       "      <td>...</td>\n",
       "      <td>...</td>\n",
       "      <td>...</td>\n",
       "      <td>...</td>\n",
       "    </tr>\n",
       "    <tr>\n",
       "      <th>135</th>\n",
       "      <td>1.032337</td>\n",
       "      <td>CCC</td>\n",
       "      <td>0.5500</td>\n",
       "      <td>0.013753</td>\n",
       "    </tr>\n",
       "    <tr>\n",
       "      <th>136</th>\n",
       "      <td>1.003779</td>\n",
       "      <td>CCC</td>\n",
       "      <td>0.5500</td>\n",
       "      <td>0.011301</td>\n",
       "    </tr>\n",
       "    <tr>\n",
       "      <th>137</th>\n",
       "      <td>1.046662</td>\n",
       "      <td>CCC</td>\n",
       "      <td>0.5500</td>\n",
       "      <td>0.006649</td>\n",
       "    </tr>\n",
       "    <tr>\n",
       "      <th>138</th>\n",
       "      <td>1.089783</td>\n",
       "      <td>CCC</td>\n",
       "      <td>0.5500</td>\n",
       "      <td>0.008087</td>\n",
       "    </tr>\n",
       "    <tr>\n",
       "      <th>139</th>\n",
       "      <td>1.056660</td>\n",
       "      <td>CCC</td>\n",
       "      <td>0.5500</td>\n",
       "      <td>0.006526</td>\n",
       "    </tr>\n",
       "  </tbody>\n",
       "</table>\n",
       "<p>140 rows × 4 columns</p>\n",
       "</div>"
      ],
      "text/plain": [
       "       yields rating       p         w\n",
       "0    1.001803    AAA  0.0015  0.008827\n",
       "1    1.000215    AAA  0.0015  0.001837\n",
       "2    1.001200    AAA  0.0015  0.006249\n",
       "3    1.001835    AAA  0.0015  0.005230\n",
       "4    1.000717    AAA  0.0015  0.003124\n",
       "..        ...    ...     ...       ...\n",
       "135  1.032337    CCC  0.5500  0.013753\n",
       "136  1.003779    CCC  0.5500  0.011301\n",
       "137  1.046662    CCC  0.5500  0.006649\n",
       "138  1.089783    CCC  0.5500  0.008087\n",
       "139  1.056660    CCC  0.5500  0.006526\n",
       "\n",
       "[140 rows x 4 columns]"
      ]
     },
     "execution_count": 88,
     "metadata": {},
     "output_type": "execute_result"
    }
   ],
   "source": [
    "df = mk_portfolio(grp_size=20)\n",
    "df"
   ]
  },
  {
   "cell_type": "code",
   "execution_count": 89,
   "metadata": {},
   "outputs": [
    {
     "data": {
      "text/plain": [
       "(1.0227505753960262, 1.0917052524702413)"
      ]
     },
     "execution_count": 89,
     "metadata": {},
     "output_type": "execute_result"
    }
   ],
   "source": [
    "sum(df['yields'] * df['w']), max(df['yields'])"
   ]
  },
  {
   "cell_type": "code",
   "execution_count": 90,
   "metadata": {},
   "outputs": [
    {
     "data": {
      "image/png": "[encoded data removed]",
      "text/plain": [
       "<Figure size 432x288 with 1 Axes>"
      ]
     },
     "metadata": {
      "needs_background": "light"
     },
     "output_type": "display_data"
    }
   ],
   "source": [
    "def experiment(pf, size=32768):\n",
    "    \"\"\"The actual experiment, shows the `size` amount of returns for provided portfolio\n",
    "    \n",
    "    Each default is sample from Bernoulli distribution.\n",
    "    Return of the bond is sample from default * (yield + 1)\n",
    "    Return of the `pf` if weighted sum of the returns of each bond.\n",
    "    \n",
    "    Calculating return `size` amount of times we can estimate `pmf` of return random var\n",
    "    \n",
    "    \"\"\"\n",
    "    rets = pf['yields'] * pf['w']\n",
    "    \n",
    "    defaults = stats.bernoulli.rvs(pf['p'], size=(size, len(rets)))\n",
    "    ret = (1 - defaults) @ rets\n",
    "    \n",
    "    return ret\n",
    "\n",
    "plt.hist(experiment(df), bins='auto');"
   ]
  },
  {
   "cell_type": "code",
   "execution_count": 92,
   "metadata": {},
   "outputs": [
    {
     "data": {
      "text/plain": [
       "(3.00337961966581e-17, False)"
      ]
     },
     "execution_count": 92,
     "metadata": {},
     "output_type": "execute_result"
    }
   ],
   "source": [
    "# looks like normal, but skewed, beta distribuiton might be a good fit\n",
    "data = experiment(df, size=65536)\n",
    "mean = np.mean(data)\n",
    "std = np.std(data)\n",
    "norm_data = (data - mean)/std\n",
    "\n",
    "alpha = .005\n",
    "_, p = stats.normaltest(norm_data)\n",
    "p, p > alpha"
   ]
  },
  {
   "cell_type": "code",
   "execution_count": 93,
   "metadata": {},
   "outputs": [],
   "source": [
    "from concurrent.futures import ProcessPoolExecutor\n",
    "\n",
    "def simple_run_tests(\n",
    "    portfolio_size,\n",
    "    tries,\n",
    "    experiment_size,\n",
    "    alpha,\n",
    "):\n",
    "    \"\"\"Genrerate random portfolios of specified sizes and test agains different dists\"\"\"\n",
    "    tot = 0\n",
    "    norm = 0\n",
    "    beta = 0\n",
    "    for t in range(tries):\n",
    "        pf = mk_portfolio(grp_size=portfolio_size//7)\n",
    "        rets = experiment(pf, size=experiment_size)\n",
    "        mean = np.mean(rets)\n",
    "        std  = np.std(rets)\n",
    "        \n",
    "        beta_params = stats.beta.fit(rets)\n",
    "        ks_res = stats.kstest(rets, 'beta', beta_params)\n",
    "        _, p = stats.normaltest(rets)\n",
    "        tot += 1\n",
    "        if p > alpha:\n",
    "            norm += 1\n",
    "        if ks_res.pvalue > alpha:\n",
    "            beta += 1\n",
    "            \n",
    "    r = {\n",
    "        'norm': norm/tot,\n",
    "        'beta': beta/tot,\n",
    "    }\n",
    "    print(f'{portfolio_size}: {r}')\n",
    "    return r\n",
    "    \n"
   ]
  },
  {
   "cell_type": "code",
   "execution_count": 94,
   "metadata": {
    "scrolled": false
   },
   "outputs": [
    {
     "name": "stderr",
     "output_type": "stream",
     "text": [
      "/home/cvb/.cache/pypoetry/virtualenvs/rnd-stuff-DBXssIu6-py3.8/lib/python3.8/site-packages/scipy/stats/_continuous_distns.py:621: RuntimeWarning: invalid value encountered in sqrt\n",
      "  sk = 2*(b-a)*np.sqrt(a + b + 1) / (a + b + 2) / np.sqrt(a*b)\n",
      "/home/cvb/.cache/pypoetry/virtualenvs/rnd-stuff-DBXssIu6-py3.8/lib/python3.8/site-packages/scipy/optimize/minpack.py:175: RuntimeWarning: The iteration is not making good progress, as measured by the \n",
      "  improvement from the last ten iterations.\n",
      "  warnings.warn(msg, RuntimeWarning)\n",
      "/home/cvb/.cache/pypoetry/virtualenvs/rnd-stuff-DBXssIu6-py3.8/lib/python3.8/site-packages/scipy/stats/_continuous_distns.py:621: RuntimeWarning: invalid value encountered in sqrt\n",
      "  sk = 2*(b-a)*np.sqrt(a + b + 1) / (a + b + 2) / np.sqrt(a*b)\n",
      "/home/cvb/.cache/pypoetry/virtualenvs/rnd-stuff-DBXssIu6-py3.8/lib/python3.8/site-packages/scipy/optimize/minpack.py:175: RuntimeWarning: The iteration is not making good progress, as measured by the \n",
      "  improvement from the last ten iterations.\n",
      "  warnings.warn(msg, RuntimeWarning)\n",
      "/home/cvb/.cache/pypoetry/virtualenvs/rnd-stuff-DBXssIu6-py3.8/lib/python3.8/site-packages/scipy/optimize/minpack.py:175: RuntimeWarning: The iteration is not making good progress, as measured by the \n",
      "  improvement from the last ten iterations.\n",
      "  warnings.warn(msg, RuntimeWarning)\n",
      "/home/cvb/.cache/pypoetry/virtualenvs/rnd-stuff-DBXssIu6-py3.8/lib/python3.8/site-packages/scipy/optimize/minpack.py:175: RuntimeWarning: The iteration is not making good progress, as measured by the \n",
      "  improvement from the last ten iterations.\n",
      "  warnings.warn(msg, RuntimeWarning)\n",
      "/home/cvb/.cache/pypoetry/virtualenvs/rnd-stuff-DBXssIu6-py3.8/lib/python3.8/site-packages/scipy/stats/_continuous_distns.py:621: RuntimeWarning: invalid value encountered in sqrt\n",
      "  sk = 2*(b-a)*np.sqrt(a + b + 1) / (a + b + 2) / np.sqrt(a*b)\n",
      "/home/cvb/.cache/pypoetry/virtualenvs/rnd-stuff-DBXssIu6-py3.8/lib/python3.8/site-packages/scipy/optimize/minpack.py:175: RuntimeWarning: The iteration is not making good progress, as measured by the \n",
      "  improvement from the last ten iterations.\n",
      "  warnings.warn(msg, RuntimeWarning)\n",
      "/home/cvb/.cache/pypoetry/virtualenvs/rnd-stuff-DBXssIu6-py3.8/lib/python3.8/site-packages/scipy/stats/_continuous_distns.py:621: RuntimeWarning: invalid value encountered in sqrt\n",
      "  sk = 2*(b-a)*np.sqrt(a + b + 1) / (a + b + 2) / np.sqrt(a*b)\n",
      "/home/cvb/.cache/pypoetry/virtualenvs/rnd-stuff-DBXssIu6-py3.8/lib/python3.8/site-packages/scipy/optimize/minpack.py:175: RuntimeWarning: The iteration is not making good progress, as measured by the \n",
      "  improvement from the last ten iterations.\n",
      "  warnings.warn(msg, RuntimeWarning)\n",
      "/home/cvb/.cache/pypoetry/virtualenvs/rnd-stuff-DBXssIu6-py3.8/lib/python3.8/site-packages/scipy/optimize/minpack.py:175: RuntimeWarning: The iteration is not making good progress, as measured by the \n",
      "  improvement from the last ten iterations.\n",
      "  warnings.warn(msg, RuntimeWarning)\n",
      "/home/cvb/.cache/pypoetry/virtualenvs/rnd-stuff-DBXssIu6-py3.8/lib/python3.8/site-packages/scipy/optimize/minpack.py:175: RuntimeWarning: The iteration is not making good progress, as measured by the \n",
      "  improvement from the last ten iterations.\n",
      "  warnings.warn(msg, RuntimeWarning)\n",
      "/home/cvb/.cache/pypoetry/virtualenvs/rnd-stuff-DBXssIu6-py3.8/lib/python3.8/site-packages/scipy/stats/_continuous_distns.py:621: RuntimeWarning: invalid value encountered in sqrt\n",
      "  sk = 2*(b-a)*np.sqrt(a + b + 1) / (a + b + 2) / np.sqrt(a*b)\n",
      "/home/cvb/.cache/pypoetry/virtualenvs/rnd-stuff-DBXssIu6-py3.8/lib/python3.8/site-packages/scipy/stats/_continuous_distns.py:621: RuntimeWarning: invalid value encountered in sqrt\n",
      "  sk = 2*(b-a)*np.sqrt(a + b + 1) / (a + b + 2) / np.sqrt(a*b)\n",
      "/home/cvb/.cache/pypoetry/virtualenvs/rnd-stuff-DBXssIu6-py3.8/lib/python3.8/site-packages/scipy/stats/_continuous_distns.py:621: RuntimeWarning: invalid value encountered in sqrt\n",
      "  sk = 2*(b-a)*np.sqrt(a + b + 1) / (a + b + 2) / np.sqrt(a*b)\n",
      "/home/cvb/.cache/pypoetry/virtualenvs/rnd-stuff-DBXssIu6-py3.8/lib/python3.8/site-packages/scipy/stats/_continuous_distns.py:621: RuntimeWarning: invalid value encountered in sqrt\n",
      "  sk = 2*(b-a)*np.sqrt(a + b + 1) / (a + b + 2) / np.sqrt(a*b)\n"
     ]
    },
    {
     "name": "stdout",
     "output_type": "stream",
     "text": [
      "21: {'norm': 0.0, 'beta': 0.0}\n",
      "56: {'norm': 0.0, 'beta': 0.689453125}\n",
      "70: {'norm': 0.0, 'beta': 0.990234375}\n",
      "98: {'norm': 0.0, 'beta': 1.0}\n",
      "84: {'norm': 0.0, 'beta': 1.0}\n",
      "140: {'norm': 0.005859375, 'beta': 1.0}\n",
      "7: {'norm': 0.0, 'beta': 0.0}\n",
      "280: {'norm': 0.015625, 'beta': 1.0}\n",
      "700: {'norm': 0.18359375, 'beta': 1.0}\n",
      "CPU times: user 31.7 ms, sys: 60.1 ms, total: 91.8 ms\n",
      "Wall time: 18min 48s\n"
     ]
    },
    {
     "data": {
      "text/plain": [
       "{7: {'norm': 0.0, 'beta': 0.0},\n",
       " 21: {'norm': 0.0, 'beta': 0.0},\n",
       " 56: {'norm': 0.0, 'beta': 0.689453125},\n",
       " 70: {'norm': 0.0, 'beta': 0.990234375},\n",
       " 84: {'norm': 0.0, 'beta': 1.0},\n",
       " 98: {'norm': 0.0, 'beta': 1.0},\n",
       " 140: {'norm': 0.005859375, 'beta': 1.0},\n",
       " 280: {'norm': 0.015625, 'beta': 1.0},\n",
       " 700: {'norm': 0.18359375, 'beta': 1.0}}"
      ]
     },
     "execution_count": 94,
     "metadata": {},
     "output_type": "execute_result"
    }
   ],
   "source": [
    "%%time\n",
    "portfolio_sizes = [7, 21, 56, 70, 84, 98, 140, 280, 700]\n",
    "res = {}\n",
    "with ProcessPoolExecutor(max_workers=8) as executor:\n",
    "    futures = []\n",
    "    for s in portfolio_sizes:\n",
    "        futures.append(\n",
    "            executor.submit(\n",
    "                simple_run_tests,\n",
    "                portfolio_size = s,\n",
    "                tries = 512,\n",
    "                experiment_size = 32768,\n",
    "                alpha = .005,           \n",
    "            )\n",
    "       )\n",
    "    res = {\n",
    "        s: r.result()\n",
    "        for s, r in zip(portfolio_sizes, futures)\n",
    "    }\n",
    "\n",
    "res"
   ]
  },
  {
   "cell_type": "markdown",
   "metadata": {},
   "source": [
    "looks like it's moving toward normal, but slowly, but it might be beta"
   ]
  },
  {
   "cell_type": "code",
   "execution_count": 96,
   "metadata": {},
   "outputs": [
    {
     "name": "stderr",
     "output_type": "stream",
     "text": [
      "/home/cvb/.cache/pypoetry/virtualenvs/rnd-stuff-DBXssIu6-py3.8/lib/python3.8/site-packages/scipy/optimize/minpack.py:175: RuntimeWarning: The iteration is not making good progress, as measured by the \n",
      "  improvement from the last ten iterations.\n",
      "  warnings.warn(msg, RuntimeWarning)\n",
      "/home/cvb/.cache/pypoetry/virtualenvs/rnd-stuff-DBXssIu6-py3.8/lib/python3.8/site-packages/scipy/optimize/minpack.py:175: RuntimeWarning: The iteration is not making good progress, as measured by the \n",
      "  improvement from the last ten iterations.\n",
      "  warnings.warn(msg, RuntimeWarning)\n",
      "/home/cvb/.cache/pypoetry/virtualenvs/rnd-stuff-DBXssIu6-py3.8/lib/python3.8/site-packages/scipy/stats/_continuous_distns.py:621: RuntimeWarning: invalid value encountered in sqrt\n",
      "  sk = 2*(b-a)*np.sqrt(a + b + 1) / (a + b + 2) / np.sqrt(a*b)\n",
      "/home/cvb/.cache/pypoetry/virtualenvs/rnd-stuff-DBXssIu6-py3.8/lib/python3.8/site-packages/scipy/optimize/minpack.py:175: RuntimeWarning: The iteration is not making good progress, as measured by the \n",
      "  improvement from the last ten iterations.\n",
      "  warnings.warn(msg, RuntimeWarning)\n",
      "/home/cvb/.cache/pypoetry/virtualenvs/rnd-stuff-DBXssIu6-py3.8/lib/python3.8/site-packages/scipy/stats/_continuous_distns.py:621: RuntimeWarning: invalid value encountered in sqrt\n",
      "  sk = 2*(b-a)*np.sqrt(a + b + 1) / (a + b + 2) / np.sqrt(a*b)\n",
      "/home/cvb/.cache/pypoetry/virtualenvs/rnd-stuff-DBXssIu6-py3.8/lib/python3.8/site-packages/scipy/stats/_continuous_distns.py:621: RuntimeWarning: invalid value encountered in sqrt\n",
      "  sk = 2*(b-a)*np.sqrt(a + b + 1) / (a + b + 2) / np.sqrt(a*b)\n"
     ]
    },
    {
     "name": "stdout",
     "output_type": "stream",
     "text": [
      "70: {'norm': 0.046875, 'beta': 1.0}\n",
      "84: {'norm': 0.048828125, 'beta': 1.0}\n",
      "77: {'norm': 0.02734375, 'beta': 1.0}\n",
      "CPU times: user 9.65 ms, sys: 41.4 ms, total: 51 ms\n",
      "Wall time: 2min 18s\n"
     ]
    },
    {
     "data": {
      "text/plain": [
       "{70: {'norm': 0.046875, 'beta': 1.0},\n",
       " 77: {'norm': 0.02734375, 'beta': 1.0},\n",
       " 84: {'norm': 0.048828125, 'beta': 1.0}}"
      ]
     },
     "execution_count": 96,
     "metadata": {},
     "output_type": "execute_result"
    }
   ],
   "source": [
    "%%time\n",
    "portfolio_sizes = [70, 77, 84]\n",
    "res = {}\n",
    "with ProcessPoolExecutor(max_workers=8) as executor:\n",
    "    futures = []\n",
    "    for s in portfolio_sizes:\n",
    "        futures.append(\n",
    "            executor.submit(\n",
    "                simple_run_tests,\n",
    "                portfolio_size = s,\n",
    "                tries = 512,\n",
    "                experiment_size = 8192, #32768,\n",
    "                alpha = .005,           \n",
    "            )\n",
    "       )\n",
    "    res = {\n",
    "        s: r.result()\n",
    "        for s, r in zip(portfolio_sizes, futures)\n",
    "    }\n",
    "\n",
    "res"
   ]
  },
  {
   "cell_type": "code",
   "execution_count": 97,
   "metadata": {},
   "outputs": [
    {
     "name": "stdout",
     "output_type": "stream",
     "text": [
      "0.9036920105036286 0.02544272663388111 0.8006460386191909 0.9943665167318809\n"
     ]
    },
    {
     "data": {
      "text/plain": [
       "(385.19770444384756,\n",
       " 123.31508230717711,\n",
       " -0.11132809186882212,\n",
       " 1.3399630872058403)"
      ]
     },
     "execution_count": 97,
     "metadata": {},
     "output_type": "execute_result"
    }
   ],
   "source": [
    "data = experiment(df, size=65536)\n",
    "print(np.mean(data), np.std(data), min(data), max(data))\n",
    "mu, s = stats.norm.fit(data)\n",
    "mu, s\n",
    "a, b, loc, scale = stats.beta.fit(data)\n",
    "a, b, loc, scale\n"
   ]
  },
  {
   "cell_type": "code",
   "execution_count": 98,
   "metadata": {},
   "outputs": [
    {
     "data": {
      "text/plain": [
       "<matplotlib.legend.Legend at 0x7f18c214f160>"
      ]
     },
     "execution_count": 98,
     "metadata": {},
     "output_type": "execute_result"
    },
    {
     "data": {
      "image/png": "[encoded data removed]",
      "text/plain": [
       "<Figure size 1296x720 with 1 Axes>"
      ]
     },
     "metadata": {
      "needs_background": "light"
     },
     "output_type": "display_data"
    }
   ],
   "source": [
    "# normal and beta pdfs agains actual histogram\n",
    "x = np.linspace(min(data), max(data), 100)\n",
    "plt.figure(figsize=(18, 10))\n",
    "plt.plot(x, stats.beta.pdf(x, a, b, loc, scale), 'r-', lw=2, alpha=1, label='beta pdf')\n",
    "plt.plot(x, stats.norm.pdf(x, mu, s), 'y-', lw=2, alpha=1, label='norm pdf')\n",
    "plt.hist(data, bins='auto', density=True);\n",
    "plt.legend()"
   ]
  },
  {
   "cell_type": "code",
   "execution_count": 102,
   "metadata": {},
   "outputs": [],
   "source": [
    "beta = stats.beta.freeze(a, b, loc, scale)"
   ]
  },
  {
   "cell_type": "code",
   "execution_count": 103,
   "metadata": {},
   "outputs": [
    {
     "data": {
      "text/plain": [
       "(0.9036920190883794, 0.9036920105036286)"
      ]
     },
     "execution_count": 103,
     "metadata": {},
     "output_type": "execute_result"
    }
   ],
   "source": [
    "beta.mean(), np.mean(data)"
   ]
  },
  {
   "cell_type": "code",
   "execution_count": 104,
   "metadata": {},
   "outputs": [
    {
     "data": {
      "text/plain": [
       "(0.025442709355593403, 0.02544272663388111)"
      ]
     },
     "execution_count": 104,
     "metadata": {},
     "output_type": "execute_result"
    }
   ],
   "source": [
    "beta.std(), np.std(data)"
   ]
  },
  {
   "cell_type": "code",
   "execution_count": 105,
   "metadata": {},
   "outputs": [
    {
     "data": {
      "text/plain": [
       "0.1588134765625"
      ]
     },
     "execution_count": 105,
     "metadata": {},
     "output_type": "execute_result"
    }
   ],
   "source": [
    "(data < (np.mean(data) - np.std(data))).sum() / len(data)"
   ]
  },
  {
   "cell_type": "code",
   "execution_count": 106,
   "metadata": {},
   "outputs": [
    {
     "data": {
      "text/plain": [
       "0.15877917481893394"
      ]
     },
     "execution_count": 106,
     "metadata": {},
     "output_type": "execute_result"
    }
   ],
   "source": [
    "beta.cdf(beta.mean() - beta.std()) "
   ]
  },
  {
   "cell_type": "markdown",
   "metadata": {},
   "source": [
    "the actual probabilities are quite close"
   ]
  },
  {
   "cell_type": "markdown",
   "metadata": {},
   "source": [
    "# MPT"
   ]
  },
  {
   "cell_type": "code",
   "execution_count": 107,
   "metadata": {},
   "outputs": [],
   "source": [
    "size = 1024\n",
    "rets  = []\n",
    "risks = []\n",
    "for i in range(size):\n",
    "    pf = mk_portfolio(grp_size=105)\n",
    "    exp = experiment(pf, size=8192)\n",
    "    mean = np.mean(exp)\n",
    "    std  = np.std(exp)\n",
    " \n",
    "    rets.append(mean)\n",
    "    risks.append(std)\n",
    "    "
   ]
  },
  {
   "cell_type": "code",
   "execution_count": 108,
   "metadata": {},
   "outputs": [
    {
     "data": {
      "text/plain": [
       "<matplotlib.collections.PathCollection at 0x7f1904b211c0>"
      ]
     },
     "execution_count": 108,
     "metadata": {},
     "output_type": "execute_result"
    },
    {
     "data": {
      "image/png": "[encoded data removed]",
      "text/plain": [
       "<Figure size 432x288 with 1 Axes>"
      ]
     },
     "metadata": {
      "needs_background": "light"
     },
     "output_type": "display_data"
    }
   ],
   "source": [
    "plt.scatter(risks, rets)"
   ]
  },
  {
   "cell_type": "code",
   "execution_count": 109,
   "metadata": {},
   "outputs": [],
   "source": [
    "# and with real data\n",
    "pf = pd.read_csv(\"../out.csv\")\n",
    "pf['yields'] = pf['yields'] + 1\n"
   ]
  },
  {
   "cell_type": "code",
   "execution_count": 110,
   "metadata": {},
   "outputs": [],
   "source": [
    "size = 1024\n",
    "rets  = []\n",
    "risks = []\n",
    "meds = []\n",
    "for i in range(size):\n",
    "    rnds = np.random.rand(len(pf))\n",
    "    pf['w'] = rnds/sum(rnds)\n",
    "    \n",
    "    exp = experiment(pf, size=8192)\n",
    "    mean = np.mean(exp)\n",
    "    std  = np.std(exp)\n",
    "    med = np.median(exp)\n",
    " \n",
    "    rets.append(mean)\n",
    "    risks.append(std)\n",
    "    meds.append(med)\n",
    "    \n",
    "    rnds = np.random.rand(len(df))\n",
    "    df['w'] = rnds/sum(rnds)"
   ]
  },
  {
   "cell_type": "code",
   "execution_count": 111,
   "metadata": {},
   "outputs": [
    {
     "data": {
      "text/plain": [
       "<matplotlib.collections.PathCollection at 0x7f1904ae7be0>"
      ]
     },
     "execution_count": 111,
     "metadata": {},
     "output_type": "execute_result"
    },
    {
     "data": {
      "image/png": "[encoded data removed]",
      "text/plain": [
       "<Figure size 432x288 with 1 Axes>"
      ]
     },
     "metadata": {
      "needs_background": "light"
     },
     "output_type": "display_data"
    }
   ],
   "source": [
    "plt.scatter(risks, rets)"
   ]
  },
  {
   "cell_type": "markdown",
   "metadata": {},
   "source": [
    "This plots doesn't show all possible portfolios beacause weights are random uniform maybe"
   ]
  },
  {
   "cell_type": "code",
   "execution_count": 112,
   "metadata": {},
   "outputs": [],
   "source": [
    "pf_size = len(pf['isins'])\n",
    "def risk_fn(ws):\n",
    "    pf['w'] = ws\n",
    "    exp = experiment(pf, size=8192)\n",
    "    \n",
    "    return np.std(exp)\n",
    "\n",
    "bounds = [(0, 1)] * pf_size\n",
    "init_w = [1/pf_size] * pf_size\n",
    "cons = [{'type': 'eq', 'fun': lambda w: sum(w)-1}]"
   ]
  },
  {
   "cell_type": "code",
   "execution_count": 113,
   "metadata": {},
   "outputs": [
    {
     "data": {
      "text/plain": [
       "     fun: 0.032317131731969234\n",
       "     jac: array([ 12113.57086308,  -2051.08141554,    487.33763594,  18040.99793588,\n",
       "       -23807.32677454,   2406.70446284,  13887.26136218, -16634.77401864,\n",
       "        20634.59440945, -19244.2528688 ,   2824.72020882,   6945.22903219,\n",
       "       -21158.26367209, -17756.95323189,  22178.4863283 , -15207.95086934,\n",
       "        17641.15974799,  11127.14919018,  -3698.11782584,  31434.0569813 ,\n",
       "         9708.71666681,   1583.15776288, -10441.31900089,  20718.37329341,\n",
       "       -15339.81838865, -11546.11931428,  -1624.93220305, -17493.93150987,\n",
       "        13574.63705861, -22715.53020793, -20412.803649  , -16076.4138367 ,\n",
       "         2108.45626065, -28046.6174179 ,  -1586.37210059, -26738.75762531,\n",
       "       -10929.28424379,  -7085.98651797, -17849.74412635,   2233.96732196,\n",
       "       -18759.1485286 ,  -1779.45440912, -20217.0465059 ,  -9261.89488629,\n",
       "       -10161.3042941 ,   5443.70328669,   3752.71717379,  -8083.41730801,\n",
       "         1391.50462135,   6693.12793928,   2432.47307987,  -5968.68007857,\n",
       "        -2477.33116909,  17447.36666361, -28813.92532545,  37476.44380604,\n",
       "        -1674.71138887,  -2939.89337638, -52837.40833829,  -1226.9988083 ,\n",
       "       -13043.97443087, -17301.81613096,  14159.60093621, -22497.05038062,\n",
       "         1409.22871577, -24720.62589822,   3988.80915781])\n",
       " message: 'Optimization terminated successfully'\n",
       "    nfev: 68\n",
       "     nit: 5\n",
       "    njev: 1\n",
       "  status: 0\n",
       " success: True\n",
       "       x: array([0.01492537, 0.01492537, 0.01492537, 0.01492537, 0.01492537,\n",
       "       0.01492537, 0.01492537, 0.01492537, 0.01492537, 0.01492537,\n",
       "       0.01492537, 0.01492537, 0.01492537, 0.01492537, 0.01492537,\n",
       "       0.01492537, 0.01492537, 0.01492537, 0.01492537, 0.01492537,\n",
       "       0.01492537, 0.01492537, 0.01492537, 0.01492537, 0.01492537,\n",
       "       0.01492537, 0.01492537, 0.01492537, 0.01492537, 0.01492537,\n",
       "       0.01492537, 0.01492537, 0.01492537, 0.01492537, 0.01492537,\n",
       "       0.01492537, 0.01492537, 0.01492537, 0.01492537, 0.01492537,\n",
       "       0.01492537, 0.01492537, 0.01492537, 0.01492537, 0.01492537,\n",
       "       0.01492537, 0.01492537, 0.01492537, 0.01492537, 0.01492537,\n",
       "       0.01492537, 0.01492537, 0.01492537, 0.01492537, 0.01492537,\n",
       "       0.01492537, 0.01492537, 0.01492537, 0.01492537, 0.01492537,\n",
       "       0.01492537, 0.01492537, 0.01492537, 0.01492537, 0.01492537,\n",
       "       0.01492537, 0.01492537])"
      ]
     },
     "execution_count": 113,
     "metadata": {},
     "output_type": "execute_result"
    }
   ],
   "source": [
    "minimize(risk_fn, init_w, constraints=cons, bounds=bounds)"
   ]
  },
  {
   "cell_type": "markdown",
   "metadata": {},
   "source": [
    "And it's not minimizing, maybe using real distribution function (built as the weighte sum of Bernoulli) could help"
   ]
  },
  {
   "cell_type": "code",
   "execution_count": null,
   "metadata": {},
   "outputs": [],
   "source": []
  }
 ],
 "metadata": {
  "kernelspec": {
   "display_name": "rnd-stuff",
   "language": "python",
   "name": "rnd-stuff"
  },
  "language_info": {
   "codemirror_mode": {
    "name": "ipython",
    "version": 3
   },
   "file_extension": ".py",
   "mimetype": "text/x-python",
   "name": "python",
   "nbconvert_exporter": "python",
   "pygments_lexer": "ipython3",
   "version": "3.8.6"
  }
 },
 "nbformat": 4,
 "nbformat_minor": 4
}
